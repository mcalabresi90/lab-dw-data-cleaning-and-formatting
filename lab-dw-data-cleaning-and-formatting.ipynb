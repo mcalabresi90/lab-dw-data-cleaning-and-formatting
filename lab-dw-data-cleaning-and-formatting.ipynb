{
  "cells": [
    {
      "cell_type": "markdown",
      "id": "25d7736c-ba17-4aff-b6bb-66eba20fbf4e",
      "metadata": {
        "id": "25d7736c-ba17-4aff-b6bb-66eba20fbf4e"
      },
      "source": [
        "# Lab | Data Cleaning and Formatting"
      ]
    },
    {
      "cell_type": "markdown",
      "id": "d1973e9e-8be6-4039-b70e-d73ee0d94c99",
      "metadata": {
        "id": "d1973e9e-8be6-4039-b70e-d73ee0d94c99"
      },
      "source": [
        "In this lab, we will be working with the customer data from an insurance company, which can be found in the CSV file located at the following link: https://raw.githubusercontent.com/data-bootcamp-v4/data/main/file1.csv\n"
      ]
    },
    {
      "cell_type": "markdown",
      "id": "31b8a9e7-7db9-4604-991b-ef6771603e57",
      "metadata": {
        "id": "31b8a9e7-7db9-4604-991b-ef6771603e57"
      },
      "source": [
        "# Challenge 1: Data Cleaning and Formatting"
      ]
    },
    {
      "cell_type": "markdown",
      "id": "81553f19-9f2c-484b-8940-520aff884022",
      "metadata": {
        "id": "81553f19-9f2c-484b-8940-520aff884022"
      },
      "source": [
        "## Exercise 1: Cleaning Column Names"
      ]
    },
    {
      "cell_type": "markdown",
      "id": "34a929f4-1be4-4fa8-adda-42ffd920be90",
      "metadata": {
        "id": "34a929f4-1be4-4fa8-adda-42ffd920be90"
      },
      "source": [
        "To ensure consistency and ease of use, standardize the column names of the dataframe. Start by taking a first look at the dataframe and identifying any column names that need to be modified. Use appropriate naming conventions and make sure that column names are descriptive and informative.\n",
        "\n",
        "*Hint*:\n",
        "- *Column names should be in lower case*\n",
        "- *White spaces in column names should be replaced by `_`*\n",
        "- *`st` could be replaced for `state`*"
      ]
    },
    {
      "cell_type": "code",
      "execution_count": 71,
      "id": "5810735c-8056-4442-bbf2-dda38d3e284a",
      "metadata": {
        "id": "5810735c-8056-4442-bbf2-dda38d3e284a"
      },
      "outputs": [
        {
          "name": "stdout",
          "output_type": "stream",
          "text": [
            "  Customer          ST GENDER             Education Customer Lifetime Value  \\\n",
            "0  RB50392  Washington    NaN                Master                     NaN   \n",
            "1  QZ44356     Arizona      F              Bachelor              697953.59%   \n",
            "2  AI49188      Nevada      F              Bachelor             1288743.17%   \n",
            "3  WW63253  California      M              Bachelor              764586.18%   \n",
            "4  GA49547  Washington      M  High School or Below              536307.65%   \n",
            "\n",
            "    Income  Monthly Premium Auto Number of Open Complaints     Policy Type  \\\n",
            "0      0.0                1000.0                    1/0/00   Personal Auto   \n",
            "1      0.0                  94.0                    1/0/00   Personal Auto   \n",
            "2  48767.0                 108.0                    1/0/00   Personal Auto   \n",
            "3      0.0                 106.0                    1/0/00  Corporate Auto   \n",
            "4  36357.0                  68.0                    1/0/00   Personal Auto   \n",
            "\n",
            "   Vehicle Class  Total Claim Amount  \n",
            "0  Four-Door Car            2.704934  \n",
            "1  Four-Door Car         1131.464935  \n",
            "2   Two-Door Car          566.472247  \n",
            "3            SUV          529.881344  \n",
            "4  Four-Door Car           17.269323  \n"
          ]
        }
      ],
      "source": [
        "import pandas as pd\n",
        "\n",
        "# Correctly read the CSV with the URL as a string\n",
        "url = \"https://raw.githubusercontent.com/data-bootcamp-v4/data/main/file1.csv\"\n",
        "df = pd.read_csv(url)\n",
        "\n",
        "# Display the first few rows to ensure it's loaded\n",
        "print(df.head())"
      ]
    },
    {
      "cell_type": "code",
      "execution_count": 72,
      "id": "aa3b8d41",
      "metadata": {},
      "outputs": [
        {
          "name": "stdout",
          "output_type": "stream",
          "text": [
            "Index(['Customer', 'ST', 'GENDER', 'Education', 'Customer Lifetime Value',\n",
            "       'Income', 'Monthly Premium Auto', 'Number of Open Complaints',\n",
            "       'Policy Type', 'Vehicle Class', 'Total Claim Amount'],\n",
            "      dtype='object')\n"
          ]
        }
      ],
      "source": [
        "print (df.columns)"
      ]
    },
    {
      "cell_type": "code",
      "execution_count": 73,
      "id": "32a70a7b",
      "metadata": {},
      "outputs": [
        {
          "data": {
            "text/plain": [
              "Index(['customer', 'st', 'gender', 'education', 'customer lifetime value',\n",
              "       'income', 'monthly premium auto', 'number of open complaints',\n",
              "       'policy type', 'vehicle class', 'total claim amount'],\n",
              "      dtype='object')"
            ]
          },
          "execution_count": 73,
          "metadata": {},
          "output_type": "execute_result"
        }
      ],
      "source": [
        "df.columns = map(str.lower, df.columns)\n",
        "df.columns"
      ]
    },
    {
      "cell_type": "code",
      "execution_count": 74,
      "id": "8997ce15",
      "metadata": {},
      "outputs": [
        {
          "data": {
            "text/plain": [
              "Index(['customer', 'st', 'gender', 'education', 'customer_lifetime_value',\n",
              "       'income', 'monthly_premium_auto', 'number_of_open_complaints',\n",
              "       'policy_type', 'vehicle_class', 'total_claim_amount'],\n",
              "      dtype='object')"
            ]
          },
          "execution_count": 74,
          "metadata": {},
          "output_type": "execute_result"
        }
      ],
      "source": [
        "df.columns = map(lambda x: x.replace(\" \", \"_\"), df.columns)\n",
        "\n",
        "df.columns"
      ]
    },
    {
      "cell_type": "markdown",
      "id": "9cb501ec-36ff-4589-b872-6252bb150316",
      "metadata": {
        "id": "9cb501ec-36ff-4589-b872-6252bb150316"
      },
      "source": [
        "## Exercise 2: Cleaning invalid Values"
      ]
    },
    {
      "cell_type": "markdown",
      "id": "771fdcf3-8e20-4b06-9c24-3a93ba2b0909",
      "metadata": {
        "id": "771fdcf3-8e20-4b06-9c24-3a93ba2b0909"
      },
      "source": [
        "The dataset contains columns with inconsistent and incorrect values that could affect the accuracy of our analysis. Therefore, we need to clean these columns to ensure that they only contain valid data.\n",
        "\n",
        "Note that this exercise will focus only on cleaning inconsistent values and will not involve handling null values (NaN or None).\n",
        "\n",
        "*Hint*:\n",
        "- *Gender column contains various inconsistent values such as \"F\", \"M\", \"Femal\", \"Male\", \"female\", which need to be standardized, for example, to \"M\" and \"F\".*\n",
        "- *State abbreviations be can replaced with its full name, for example \"AZ\": \"Arizona\", \"Cali\": \"California\", \"WA\": \"Washington\"*\n",
        "- *In education, \"Bachelors\" could be replaced by \"Bachelor\"*\n",
        "- *In Customer Lifetime Value, delete the `%` character*\n",
        "- *In vehicle class, \"Sports Car\", \"Luxury SUV\" and \"Luxury Car\" could be replaced by \"Luxury\"*"
      ]
    },
    {
      "cell_type": "code",
      "execution_count": 75,
      "id": "3f8ee5cb-50ab-48af-8a9f-9a389804033c",
      "metadata": {
        "id": "3f8ee5cb-50ab-48af-8a9f-9a389804033c"
      },
      "outputs": [
        {
          "name": "stdout",
          "output_type": "stream",
          "text": [
            "[nan 'F' 'M']\n"
          ]
        }
      ],
      "source": [
        "df['gender'] = df['gender'].replace({'Male': 'M', 'female' : 'F', 'Femal' : 'F'})\n",
        "print(df['gender'].unique())"
      ]
    },
    {
      "cell_type": "code",
      "execution_count": 76,
      "id": "ec617bff",
      "metadata": {},
      "outputs": [
        {
          "data": {
            "text/plain": [
              "st\n",
              "Oregon        320\n",
              "California    211\n",
              "Arizona       186\n",
              "Cali          120\n",
              "Nevada         98\n",
              "Washington     81\n",
              "WA             30\n",
              "AZ             25\n",
              "Name: count, dtype: int64"
            ]
          },
          "execution_count": 76,
          "metadata": {},
          "output_type": "execute_result"
        }
      ],
      "source": [
        "df['st'].value_counts()"
      ]
    },
    {
      "cell_type": "code",
      "execution_count": 77,
      "id": "36cb3290",
      "metadata": {},
      "outputs": [],
      "source": [
        "df['st']= df['st'].replace({'Cali':'California', 'AZ' : 'Arizona', 'Wa' : 'Washington'})"
      ]
    },
    {
      "cell_type": "code",
      "execution_count": 78,
      "id": "ee85a3fd",
      "metadata": {},
      "outputs": [],
      "source": [
        "df['education']=df['education'].replace({'Bachelors': 'Bachelor'})"
      ]
    },
    {
      "cell_type": "code",
      "execution_count": 79,
      "id": "5b988833",
      "metadata": {},
      "outputs": [
        {
          "name": "stdout",
          "output_type": "stream",
          "text": [
            "     customer          st gender education customer_lifetime_value   income  \\\n",
            "1     QZ44356     Arizona      F  Bachelor              697953.59%      0.0   \n",
            "2     AI49188      Nevada      F  Bachelor             1288743.17%  48767.0   \n",
            "3     WW63253  California      M  Bachelor              764586.18%      0.0   \n",
            "5     OC83172      Oregon      F  Bachelor              825629.78%  62902.0   \n",
            "8     DY87989      Oregon      M  Bachelor             2412750.40%  14072.0   \n",
            "...       ...         ...    ...       ...                     ...      ...   \n",
            "1056  PI47776      Oregon      F  Bachelor              253070.51%  89451.0   \n",
            "1061  RY92647  California      F  Bachelor             1050677.17%      0.0   \n",
            "1064  YT69858  Washington      F  Bachelor              544142.01%  85702.0   \n",
            "1065  XD85577  California      M  Bachelor              284226.69%  69417.0   \n",
            "1068  GS98873     Arizona      F  Bachelor              323912.47%  16061.0   \n",
            "\n",
            "      monthly_premium_auto number_of_open_complaints     policy_type  \\\n",
            "1                     94.0                    1/0/00   Personal Auto   \n",
            "2                    108.0                    1/0/00   Personal Auto   \n",
            "3                    106.0                    1/0/00  Corporate Auto   \n",
            "5                     69.0                    1/0/00   Personal Auto   \n",
            "8                     71.0                    1/0/00  Corporate Auto   \n",
            "...                    ...                       ...             ...   \n",
            "1056                  63.0                    1/0/00  Corporate Auto   \n",
            "1061                  92.0                    1/0/00   Personal Auto   \n",
            "1064                  67.0                    1/0/00   Personal Auto   \n",
            "1065                  73.0                    1/1/00   Personal Auto   \n",
            "1068                  88.0                    1/0/00   Personal Auto   \n",
            "\n",
            "      vehicle_class  total_claim_amount  \n",
            "1     Four-Door Car         1131.464935  \n",
            "2      Two-Door Car          566.472247  \n",
            "3               SUV          529.881344  \n",
            "5      Two-Door Car          159.383042  \n",
            "8     Four-Door Car          511.200000  \n",
            "...             ...                 ...  \n",
            "1056  Four-Door Car           61.769564  \n",
            "1061  Four-Door Car          546.524896  \n",
            "1064   Two-Door Car          249.085887  \n",
            "1065  Four-Door Car           30.874869  \n",
            "1068  Four-Door Car          633.600000  \n",
            "\n",
            "[331 rows x 11 columns]\n"
          ]
        }
      ],
      "source": [
        "# Filter the DataFrame to get all rows where 'Education' is 'Bachelor'\n",
        "bachelor_rows = df.loc[df['education'] == 'Bachelor']\n",
        "\n",
        "# Display these rows\n",
        "print(bachelor_rows)"
      ]
    },
    {
      "cell_type": "code",
      "execution_count": 80,
      "id": "8965b1f2",
      "metadata": {},
      "outputs": [
        {
          "name": "stdout",
          "output_type": "stream",
          "text": [
            "0           NaN\n",
            "1     697953.59\n",
            "2    1288743.17\n",
            "3     764586.18\n",
            "4     536307.65\n",
            "Name: customer_lifetime_value, dtype: float64\n"
          ]
        }
      ],
      "source": [
        "\n",
        "df['customer_lifetime_value'] = df['customer_lifetime_value'].str.rstrip('%').astype(float)\n",
        "\n",
        "\n",
        "print(df['customer_lifetime_value'].head())"
      ]
    },
    {
      "cell_type": "markdown",
      "id": "85ff78ce-0174-4890-9db3-8048b7d7d2d0",
      "metadata": {
        "id": "85ff78ce-0174-4890-9db3-8048b7d7d2d0"
      },
      "source": [
        "## Exercise 3: Formatting data types"
      ]
    },
    {
      "cell_type": "markdown",
      "id": "b91c2cf8-79a2-4baf-9f65-ff2fb22270bd",
      "metadata": {
        "id": "b91c2cf8-79a2-4baf-9f65-ff2fb22270bd"
      },
      "source": [
        "The data types of many columns in the dataset appear to be incorrect. This could impact the accuracy of our analysis. To ensure accurate analysis, we need to correct the data types of these columns. Please update the data types of the columns as appropriate."
      ]
    },
    {
      "cell_type": "markdown",
      "id": "43e5d853-ff9e-43b2-9d92-aef2f78764f3",
      "metadata": {
        "id": "43e5d853-ff9e-43b2-9d92-aef2f78764f3"
      },
      "source": [
        "It is important to note that this exercise does not involve handling null values (NaN or None)."
      ]
    },
    {
      "cell_type": "markdown",
      "id": "329ca691-9196-4419-8969-3596746237a1",
      "metadata": {
        "id": "329ca691-9196-4419-8969-3596746237a1"
      },
      "source": [
        "*Hint*:\n",
        "- *Customer lifetime value should be numeric*\n",
        "- *Number of open complaints has an incorrect format. Look at the different values it takes with `unique()` and take the middle value. As an example, 1/5/00 should be 5. Number of open complaints is a string - remember you can use `split()` to deal with it and take the number you need. Finally, since it should be numeric, cast the column to be in its proper type.*"
      ]
    },
    {
      "cell_type": "code",
      "execution_count": 81,
      "id": "eb8f5991-73e9-405f-bf1c-6b7c589379a9",
      "metadata": {
        "id": "eb8f5991-73e9-405f-bf1c-6b7c589379a9"
      },
      "outputs": [
        {
          "name": "stdout",
          "output_type": "stream",
          "text": [
            "customer                      object\n",
            "st                            object\n",
            "gender                        object\n",
            "education                     object\n",
            "customer_lifetime_value      float64\n",
            "income                       float64\n",
            "monthly_premium_auto         float64\n",
            "number_of_open_complaints     object\n",
            "policy_type                   object\n",
            "vehicle_class                 object\n",
            "total_claim_amount           float64\n",
            "dtype: object\n"
          ]
        }
      ],
      "source": [
        "df['customer_lifetime_value'] = pd.to_numeric (df['customer_lifetime_value'], errors='coerce')\n",
        "print(df.dtypes)"
      ]
    },
    {
      "cell_type": "markdown",
      "id": "14c52e28-2d0c-4dd2-8bd5-3476e34fadc1",
      "metadata": {
        "id": "14c52e28-2d0c-4dd2-8bd5-3476e34fadc1"
      },
      "source": [
        "## Exercise 4: Dealing with Null values"
      ]
    },
    {
      "cell_type": "markdown",
      "id": "34b9a20f-7d32-4417-975e-1b4dfb0e16cd",
      "metadata": {
        "id": "34b9a20f-7d32-4417-975e-1b4dfb0e16cd"
      },
      "source": [
        "Identify any columns with null or missing values. Identify how many null values each column has. You can use the `isnull()` function in pandas to find columns with null values.\n",
        "\n",
        "Decide on a strategy for handling the null values. There are several options, including:\n",
        "\n",
        "- Drop the rows or columns with null values\n",
        "- Fill the null values with a specific value (such as the column mean or median for numerical variables, and mode for categorical variables)\n",
        "- Fill the null values with the previous or next value in the column\n",
        "- Fill the null values based on a more complex algorithm or model (note: we haven't covered this yet)\n",
        "\n",
        "Implement your chosen strategy to handle the null values. You can use the `fillna()` function in pandas to fill null values or `dropna()` function to drop null values.\n",
        "\n",
        "Verify that your strategy has successfully handled the null values. You can use the `isnull()` function again to check if there are still null values in the dataset.\n",
        "\n",
        "Remember to document your process and explain your reasoning for choosing a particular strategy for handling null values.\n",
        "\n",
        "After formatting data types, as a last step, convert all the numeric variables to integers."
      ]
    },
    {
      "cell_type": "code",
      "execution_count": 83,
      "id": "f184fc35-7831-4836-a0a5-e7f99e01b40e",
      "metadata": {
        "id": "f184fc35-7831-4836-a0a5-e7f99e01b40e"
      },
      "outputs": [
        {
          "name": "stdout",
          "output_type": "stream",
          "text": [
            "customer                     73.278443\n",
            "st                           73.278443\n",
            "gender                       76.197605\n",
            "education                    73.278443\n",
            "customer_lifetime_value      73.353293\n",
            "income                       73.278443\n",
            "monthly_premium_auto         73.278443\n",
            "number_of_open_complaints    73.278443\n",
            "policy_type                  73.278443\n",
            "vehicle_class                73.278443\n",
            "total_claim_amount           73.278443\n",
            "dtype: float64\n",
            "------------------------------------------------------\n",
            "customer                      object\n",
            "st                            object\n",
            "gender                        object\n",
            "education                     object\n",
            "customer_lifetime_value      float64\n",
            "income                       float64\n",
            "monthly_premium_auto         float64\n",
            "number_of_open_complaints     object\n",
            "policy_type                   object\n",
            "vehicle_class                 object\n",
            "total_claim_amount           float64\n",
            "dtype: object\n"
          ]
        }
      ],
      "source": [
        "# STEP 1:\n",
        "# Check the percentage of missing values in each column \n",
        "# Check the data type in each column \n",
        "\n",
        "total_values = len(df)\n",
        "missing_values = df.isnull().sum()\n",
        "missing_percentage =(missing_values / total_values) * 100\n",
        "print (missing_percentage)\n",
        "print(\"------------------------------------------------------\")\n",
        "print (df.dtypes)"
      ]
    },
    {
      "cell_type": "code",
      "execution_count": 84,
      "id": "7016530e",
      "metadata": {},
      "outputs": [
        {
          "name": "stdout",
          "output_type": "stream",
          "text": [
            "customer_lifetime_value     2.544175\n",
            "income                      0.217100\n",
            "monthly_premium_auto       20.281887\n",
            "total_claim_amount          1.852800\n",
            "dtype: float64\n"
          ]
        }
      ],
      "source": [
        "# STEP 2:\n",
        "# check for skewers and outliers\n",
        "# the values should be analyzed considering the skewed interpretation scale. \n",
        "# And they will define the approach to clean the data. \n",
        "# -0.5 to 0.5\t                    Approximately Normal ----> Use mean()\n",
        "# -1 to -0.5 or 0.5 to 1\t        Moderately Skewed\t ----> Prefer median() but mean() can work\n",
        "# Less than -1 or Greater than 1\tHighly Skewed\t     ----> Use median()\n",
        "\n",
        "\n",
        "print(df.select_dtypes(include=['number']).skew())"
      ]
    },
    {
      "cell_type": "code",
      "execution_count": 85,
      "id": "67a106c4",
      "metadata": {},
      "outputs": [
        {
          "name": "stdout",
          "output_type": "stream",
          "text": [
            "The median of customer lifetime value is: 588174.235\n",
            "The mean of income is: 39295.70121381886\n",
            "The median of monthly premiou auto is: 83.0\n",
            "The median of total claim amount is: 354.729129\n"
          ]
        }
      ],
      "source": [
        "#STEP 3:\n",
        "#calculate the median or mean for the columns with skewed values\n",
        "\n",
        "median_customer_lifetime_value = df['customer_lifetime_value'].median()\n",
        "mean_income = df['income'].mean()\n",
        "median_monthly_premium_auto= df['monthly_premium_auto'].median()\n",
        "median_total_claim_amount= df['total_claim_amount'].median()\n",
        "\n",
        "print (\"The median of customer lifetime value is:\", median_customer_lifetime_value)\n",
        "print (\"The mean of income is:\", mean_income)\n",
        "print (\"The median of monthly premiou auto is:\", median_monthly_premium_auto)\n",
        "print (\"The median of total claim amount is:\", median_total_claim_amount)"
      ]
    },
    {
      "cell_type": "code",
      "execution_count": 86,
      "id": "5961404a",
      "metadata": {},
      "outputs": [
        {
          "name": "stdout",
          "output_type": "stream",
          "text": [
            "Column: customer_lifetime_value | Skewness: 2.54 | Filled with: Median\n",
            "Column: income | Skewness: 0.22 | Filled with: Mean\n",
            "Column: monthly_premium_auto | Skewness: 20.28 | Filled with: Median\n",
            "Column: total_claim_amount | Skewness: 1.85 | Filled with: Median\n"
          ]
        }
      ],
      "source": [
        "# STep 4:\n",
        "# Replace all the skewed values by meadian or mean\n",
        "\n",
        "for col in df.select_dtypes(include=['number']).columns:\n",
        "    skewness = df[col].skew()\n",
        "    \n",
        "    if skewness > 1 or skewness < -1:  # Highly skewed\n",
        "        df.fillna({col: df[col].median()}, inplace=True)\n",
        "        print(f\"Column: {col} | Skewness: {skewness:.2f} | Filled with: Median\")\n",
        "\n",
        "    else:  \n",
        "        df.fillna({col: df[col].mean()}, inplace=True)\n",
        "        print(f\"Column: {col} | Skewness: {skewness:.2f} | Filled with: Mean\")\n"
      ]
    },
    {
      "cell_type": "code",
      "execution_count": 87,
      "id": "3ca8a82c",
      "metadata": {},
      "outputs": [],
      "source": [
        "# STEP 5: \n",
        "# replace missing numeric (normal distribution) with the mean \n",
        "\n",
        "for col in df.select_dtypes(include=['number']).columns:\n",
        "    if df[col].isnull().sum() > 0:  # Only process columns with missing values\n",
        "        df[col].fillna(df[col].mean(), inplace=True)\n",
        "        print(f\"Column: {col} | Filled with: Mean\")\n",
        "\n"
      ]
    },
    {
      "cell_type": "code",
      "execution_count": 88,
      "id": "98469bb3",
      "metadata": {},
      "outputs": [
        {
          "ename": "SyntaxError",
          "evalue": "invalid syntax (3201981893.py, line 1)",
          "output_type": "error",
          "traceback": [
            "\u001b[1;36m  Cell \u001b[1;32mIn[88], line 1\u001b[1;36m\u001b[0m\n\u001b[1;33m    STEP 6:\u001b[0m\n\u001b[1;37m         ^\u001b[0m\n\u001b[1;31mSyntaxError\u001b[0m\u001b[1;31m:\u001b[0m invalid syntax\n"
          ]
        }
      ],
      "source": [
        "STEP 6: \n",
        "# replace  missing categorical values by mode:\n",
        "for col in df.select_dtypes(include=['object']).columns:\n",
        "    if df[col].isnull().sum() > 0:\n",
        "        df[col].fillna(df[col].mode()[0], inplace=True) \n",
        "        print(f\"Column: {col} | Filled with: Mode\")\n"
      ]
    },
    {
      "cell_type": "code",
      "execution_count": null,
      "id": "860e5432",
      "metadata": {},
      "outputs": [
        {
          "name": "stdout",
          "output_type": "stream",
          "text": [
            "customer_lifetime_value: customer_lifetime_value\n",
            "<class 'float'>    4008\n",
            "Name: count, dtype: int64\n",
            "income: income\n",
            "<class 'float'>    4008\n",
            "Name: count, dtype: int64\n",
            "monthly_premium_auto: monthly_premium_auto\n",
            "<class 'float'>    4008\n",
            "Name: count, dtype: int64\n",
            "total_claim_amount: total_claim_amount\n",
            "<class 'float'>    4008\n",
            "Name: count, dtype: int64\n"
          ]
        }
      ],
      "source": [
        "for col in df.select_dtypes(include=['number']).columns:\n",
        "    print(f\"{col}: {df[col].apply(type).value_counts()}\")\n"
      ]
    },
    {
      "cell_type": "code",
      "execution_count": null,
      "id": "05aae239",
      "metadata": {},
      "outputs": [],
      "source": []
    },
    {
      "cell_type": "markdown",
      "id": "98416351-e999-4156-9834-9b00a311adfa",
      "metadata": {
        "id": "98416351-e999-4156-9834-9b00a311adfa"
      },
      "source": [
        "## Exercise 5: Dealing with duplicates"
      ]
    },
    {
      "cell_type": "markdown",
      "id": "ea0816a7-a18e-4d4c-b667-a8452a800bd1",
      "metadata": {
        "id": "ea0816a7-a18e-4d4c-b667-a8452a800bd1"
      },
      "source": [
        "Use the `.duplicated()` method to identify any duplicate rows in the dataframe.\n",
        "\n",
        "Decide on a strategy for handling the duplicates. Options include:\n",
        "- Dropping all duplicate rows\n",
        "- Keeping only the first occurrence of each duplicated row\n",
        "- Keeping only the last occurrence of each duplicated row\n",
        "- Dropping duplicates based on a subset of columns\n",
        "- Dropping duplicates based on a specific column\n",
        "\n",
        "Implement your chosen strategy using the `drop_duplicates()` function.\n",
        "\n",
        "Verify that your strategy has successfully handled the duplicates by checking for duplicates again using `.duplicated()`.\n",
        "\n",
        "Remember to document your process and explain your reasoning for choosing a particular strategy for handling duplicates.\n",
        "\n",
        "Save the cleaned dataset to a new CSV file.\n",
        "\n",
        "*Hint*: *after dropping duplicates, reset the index to ensure consistency*."
      ]
    },
    {
      "cell_type": "code",
      "execution_count": 99,
      "id": "1929362c-47ed-47cb-baca-358b78d401a0",
      "metadata": {
        "id": "1929362c-47ed-47cb-baca-358b78d401a0"
      },
      "outputs": [
        {
          "name": "stdout",
          "output_type": "stream",
          "text": [
            "The number of duplicated rows is: 2936\n"
          ]
        }
      ],
      "source": [
        "#STEP 1\n",
        "# check how many duplicates in df\n",
        "\n",
        "duplicated_rows = df.duplicated().sum()\n",
        "print(\"The number of duplicated rows is:\", duplicated_rows)"
      ]
    },
    {
      "cell_type": "code",
      "execution_count": 102,
      "id": "debaa71d",
      "metadata": {},
      "outputs": [
        {
          "data": {
            "text/html": [
              "<div>\n",
              "<style scoped>\n",
              "    .dataframe tbody tr th:only-of-type {\n",
              "        vertical-align: middle;\n",
              "    }\n",
              "\n",
              "    .dataframe tbody tr th {\n",
              "        vertical-align: top;\n",
              "    }\n",
              "\n",
              "    .dataframe thead th {\n",
              "        text-align: right;\n",
              "    }\n",
              "</style>\n",
              "<table border=\"1\" class=\"dataframe\">\n",
              "  <thead>\n",
              "    <tr style=\"text-align: right;\">\n",
              "      <th></th>\n",
              "      <th>customer</th>\n",
              "      <th>st</th>\n",
              "      <th>gender</th>\n",
              "      <th>education</th>\n",
              "      <th>customer_lifetime_value</th>\n",
              "      <th>income</th>\n",
              "      <th>monthly_premium_auto</th>\n",
              "      <th>number_of_open_complaints</th>\n",
              "      <th>policy_type</th>\n",
              "      <th>vehicle_class</th>\n",
              "      <th>total_claim_amount</th>\n",
              "    </tr>\n",
              "  </thead>\n",
              "  <tbody>\n",
              "    <tr>\n",
              "      <th>1072</th>\n",
              "      <td>NaN</td>\n",
              "      <td>NaN</td>\n",
              "      <td>NaN</td>\n",
              "      <td>NaN</td>\n",
              "      <td>588174.235</td>\n",
              "      <td>39295.701214</td>\n",
              "      <td>83.0</td>\n",
              "      <td>NaN</td>\n",
              "      <td>NaN</td>\n",
              "      <td>NaN</td>\n",
              "      <td>354.729129</td>\n",
              "    </tr>\n",
              "    <tr>\n",
              "      <th>1073</th>\n",
              "      <td>NaN</td>\n",
              "      <td>NaN</td>\n",
              "      <td>NaN</td>\n",
              "      <td>NaN</td>\n",
              "      <td>588174.235</td>\n",
              "      <td>39295.701214</td>\n",
              "      <td>83.0</td>\n",
              "      <td>NaN</td>\n",
              "      <td>NaN</td>\n",
              "      <td>NaN</td>\n",
              "      <td>354.729129</td>\n",
              "    </tr>\n",
              "    <tr>\n",
              "      <th>1074</th>\n",
              "      <td>NaN</td>\n",
              "      <td>NaN</td>\n",
              "      <td>NaN</td>\n",
              "      <td>NaN</td>\n",
              "      <td>588174.235</td>\n",
              "      <td>39295.701214</td>\n",
              "      <td>83.0</td>\n",
              "      <td>NaN</td>\n",
              "      <td>NaN</td>\n",
              "      <td>NaN</td>\n",
              "      <td>354.729129</td>\n",
              "    </tr>\n",
              "    <tr>\n",
              "      <th>1075</th>\n",
              "      <td>NaN</td>\n",
              "      <td>NaN</td>\n",
              "      <td>NaN</td>\n",
              "      <td>NaN</td>\n",
              "      <td>588174.235</td>\n",
              "      <td>39295.701214</td>\n",
              "      <td>83.0</td>\n",
              "      <td>NaN</td>\n",
              "      <td>NaN</td>\n",
              "      <td>NaN</td>\n",
              "      <td>354.729129</td>\n",
              "    </tr>\n",
              "    <tr>\n",
              "      <th>1076</th>\n",
              "      <td>NaN</td>\n",
              "      <td>NaN</td>\n",
              "      <td>NaN</td>\n",
              "      <td>NaN</td>\n",
              "      <td>588174.235</td>\n",
              "      <td>39295.701214</td>\n",
              "      <td>83.0</td>\n",
              "      <td>NaN</td>\n",
              "      <td>NaN</td>\n",
              "      <td>NaN</td>\n",
              "      <td>354.729129</td>\n",
              "    </tr>\n",
              "    <tr>\n",
              "      <th>...</th>\n",
              "      <td>...</td>\n",
              "      <td>...</td>\n",
              "      <td>...</td>\n",
              "      <td>...</td>\n",
              "      <td>...</td>\n",
              "      <td>...</td>\n",
              "      <td>...</td>\n",
              "      <td>...</td>\n",
              "      <td>...</td>\n",
              "      <td>...</td>\n",
              "      <td>...</td>\n",
              "    </tr>\n",
              "    <tr>\n",
              "      <th>4003</th>\n",
              "      <td>NaN</td>\n",
              "      <td>NaN</td>\n",
              "      <td>NaN</td>\n",
              "      <td>NaN</td>\n",
              "      <td>588174.235</td>\n",
              "      <td>39295.701214</td>\n",
              "      <td>83.0</td>\n",
              "      <td>NaN</td>\n",
              "      <td>NaN</td>\n",
              "      <td>NaN</td>\n",
              "      <td>354.729129</td>\n",
              "    </tr>\n",
              "    <tr>\n",
              "      <th>4004</th>\n",
              "      <td>NaN</td>\n",
              "      <td>NaN</td>\n",
              "      <td>NaN</td>\n",
              "      <td>NaN</td>\n",
              "      <td>588174.235</td>\n",
              "      <td>39295.701214</td>\n",
              "      <td>83.0</td>\n",
              "      <td>NaN</td>\n",
              "      <td>NaN</td>\n",
              "      <td>NaN</td>\n",
              "      <td>354.729129</td>\n",
              "    </tr>\n",
              "    <tr>\n",
              "      <th>4005</th>\n",
              "      <td>NaN</td>\n",
              "      <td>NaN</td>\n",
              "      <td>NaN</td>\n",
              "      <td>NaN</td>\n",
              "      <td>588174.235</td>\n",
              "      <td>39295.701214</td>\n",
              "      <td>83.0</td>\n",
              "      <td>NaN</td>\n",
              "      <td>NaN</td>\n",
              "      <td>NaN</td>\n",
              "      <td>354.729129</td>\n",
              "    </tr>\n",
              "    <tr>\n",
              "      <th>4006</th>\n",
              "      <td>NaN</td>\n",
              "      <td>NaN</td>\n",
              "      <td>NaN</td>\n",
              "      <td>NaN</td>\n",
              "      <td>588174.235</td>\n",
              "      <td>39295.701214</td>\n",
              "      <td>83.0</td>\n",
              "      <td>NaN</td>\n",
              "      <td>NaN</td>\n",
              "      <td>NaN</td>\n",
              "      <td>354.729129</td>\n",
              "    </tr>\n",
              "    <tr>\n",
              "      <th>4007</th>\n",
              "      <td>NaN</td>\n",
              "      <td>NaN</td>\n",
              "      <td>NaN</td>\n",
              "      <td>NaN</td>\n",
              "      <td>588174.235</td>\n",
              "      <td>39295.701214</td>\n",
              "      <td>83.0</td>\n",
              "      <td>NaN</td>\n",
              "      <td>NaN</td>\n",
              "      <td>NaN</td>\n",
              "      <td>354.729129</td>\n",
              "    </tr>\n",
              "  </tbody>\n",
              "</table>\n",
              "<p>2936 rows × 11 columns</p>\n",
              "</div>"
            ],
            "text/plain": [
              "     customer   st gender education  customer_lifetime_value        income  \\\n",
              "1072      NaN  NaN    NaN       NaN               588174.235  39295.701214   \n",
              "1073      NaN  NaN    NaN       NaN               588174.235  39295.701214   \n",
              "1074      NaN  NaN    NaN       NaN               588174.235  39295.701214   \n",
              "1075      NaN  NaN    NaN       NaN               588174.235  39295.701214   \n",
              "1076      NaN  NaN    NaN       NaN               588174.235  39295.701214   \n",
              "...       ...  ...    ...       ...                      ...           ...   \n",
              "4003      NaN  NaN    NaN       NaN               588174.235  39295.701214   \n",
              "4004      NaN  NaN    NaN       NaN               588174.235  39295.701214   \n",
              "4005      NaN  NaN    NaN       NaN               588174.235  39295.701214   \n",
              "4006      NaN  NaN    NaN       NaN               588174.235  39295.701214   \n",
              "4007      NaN  NaN    NaN       NaN               588174.235  39295.701214   \n",
              "\n",
              "      monthly_premium_auto number_of_open_complaints policy_type  \\\n",
              "1072                  83.0                       NaN         NaN   \n",
              "1073                  83.0                       NaN         NaN   \n",
              "1074                  83.0                       NaN         NaN   \n",
              "1075                  83.0                       NaN         NaN   \n",
              "1076                  83.0                       NaN         NaN   \n",
              "...                    ...                       ...         ...   \n",
              "4003                  83.0                       NaN         NaN   \n",
              "4004                  83.0                       NaN         NaN   \n",
              "4005                  83.0                       NaN         NaN   \n",
              "4006                  83.0                       NaN         NaN   \n",
              "4007                  83.0                       NaN         NaN   \n",
              "\n",
              "     vehicle_class  total_claim_amount  \n",
              "1072           NaN          354.729129  \n",
              "1073           NaN          354.729129  \n",
              "1074           NaN          354.729129  \n",
              "1075           NaN          354.729129  \n",
              "1076           NaN          354.729129  \n",
              "...            ...                 ...  \n",
              "4003           NaN          354.729129  \n",
              "4004           NaN          354.729129  \n",
              "4005           NaN          354.729129  \n",
              "4006           NaN          354.729129  \n",
              "4007           NaN          354.729129  \n",
              "\n",
              "[2936 rows x 11 columns]"
            ]
          },
          "execution_count": 102,
          "metadata": {},
          "output_type": "execute_result"
        }
      ],
      "source": [
        "df[df.duplicated()]\n"
      ]
    },
    {
      "cell_type": "code",
      "execution_count": 103,
      "id": "20cde040",
      "metadata": {},
      "outputs": [
        {
          "data": {
            "text/html": [
              "<div>\n",
              "<style scoped>\n",
              "    .dataframe tbody tr th:only-of-type {\n",
              "        vertical-align: middle;\n",
              "    }\n",
              "\n",
              "    .dataframe tbody tr th {\n",
              "        vertical-align: top;\n",
              "    }\n",
              "\n",
              "    .dataframe thead th {\n",
              "        text-align: right;\n",
              "    }\n",
              "</style>\n",
              "<table border=\"1\" class=\"dataframe\">\n",
              "  <thead>\n",
              "    <tr style=\"text-align: right;\">\n",
              "      <th></th>\n",
              "      <th>customer</th>\n",
              "      <th>st</th>\n",
              "      <th>gender</th>\n",
              "      <th>education</th>\n",
              "      <th>customer_lifetime_value</th>\n",
              "      <th>income</th>\n",
              "      <th>monthly_premium_auto</th>\n",
              "      <th>number_of_open_complaints</th>\n",
              "      <th>policy_type</th>\n",
              "      <th>vehicle_class</th>\n",
              "      <th>total_claim_amount</th>\n",
              "    </tr>\n",
              "  </thead>\n",
              "  <tbody>\n",
              "    <tr>\n",
              "      <th>1071</th>\n",
              "      <td>NaN</td>\n",
              "      <td>NaN</td>\n",
              "      <td>NaN</td>\n",
              "      <td>NaN</td>\n",
              "      <td>588174.235</td>\n",
              "      <td>39295.701214</td>\n",
              "      <td>83.0</td>\n",
              "      <td>NaN</td>\n",
              "      <td>NaN</td>\n",
              "      <td>NaN</td>\n",
              "      <td>354.729129</td>\n",
              "    </tr>\n",
              "    <tr>\n",
              "      <th>1072</th>\n",
              "      <td>NaN</td>\n",
              "      <td>NaN</td>\n",
              "      <td>NaN</td>\n",
              "      <td>NaN</td>\n",
              "      <td>588174.235</td>\n",
              "      <td>39295.701214</td>\n",
              "      <td>83.0</td>\n",
              "      <td>NaN</td>\n",
              "      <td>NaN</td>\n",
              "      <td>NaN</td>\n",
              "      <td>354.729129</td>\n",
              "    </tr>\n",
              "    <tr>\n",
              "      <th>1073</th>\n",
              "      <td>NaN</td>\n",
              "      <td>NaN</td>\n",
              "      <td>NaN</td>\n",
              "      <td>NaN</td>\n",
              "      <td>588174.235</td>\n",
              "      <td>39295.701214</td>\n",
              "      <td>83.0</td>\n",
              "      <td>NaN</td>\n",
              "      <td>NaN</td>\n",
              "      <td>NaN</td>\n",
              "      <td>354.729129</td>\n",
              "    </tr>\n",
              "    <tr>\n",
              "      <th>1074</th>\n",
              "      <td>NaN</td>\n",
              "      <td>NaN</td>\n",
              "      <td>NaN</td>\n",
              "      <td>NaN</td>\n",
              "      <td>588174.235</td>\n",
              "      <td>39295.701214</td>\n",
              "      <td>83.0</td>\n",
              "      <td>NaN</td>\n",
              "      <td>NaN</td>\n",
              "      <td>NaN</td>\n",
              "      <td>354.729129</td>\n",
              "    </tr>\n",
              "    <tr>\n",
              "      <th>1075</th>\n",
              "      <td>NaN</td>\n",
              "      <td>NaN</td>\n",
              "      <td>NaN</td>\n",
              "      <td>NaN</td>\n",
              "      <td>588174.235</td>\n",
              "      <td>39295.701214</td>\n",
              "      <td>83.0</td>\n",
              "      <td>NaN</td>\n",
              "      <td>NaN</td>\n",
              "      <td>NaN</td>\n",
              "      <td>354.729129</td>\n",
              "    </tr>\n",
              "    <tr>\n",
              "      <th>...</th>\n",
              "      <td>...</td>\n",
              "      <td>...</td>\n",
              "      <td>...</td>\n",
              "      <td>...</td>\n",
              "      <td>...</td>\n",
              "      <td>...</td>\n",
              "      <td>...</td>\n",
              "      <td>...</td>\n",
              "      <td>...</td>\n",
              "      <td>...</td>\n",
              "      <td>...</td>\n",
              "    </tr>\n",
              "    <tr>\n",
              "      <th>4003</th>\n",
              "      <td>NaN</td>\n",
              "      <td>NaN</td>\n",
              "      <td>NaN</td>\n",
              "      <td>NaN</td>\n",
              "      <td>588174.235</td>\n",
              "      <td>39295.701214</td>\n",
              "      <td>83.0</td>\n",
              "      <td>NaN</td>\n",
              "      <td>NaN</td>\n",
              "      <td>NaN</td>\n",
              "      <td>354.729129</td>\n",
              "    </tr>\n",
              "    <tr>\n",
              "      <th>4004</th>\n",
              "      <td>NaN</td>\n",
              "      <td>NaN</td>\n",
              "      <td>NaN</td>\n",
              "      <td>NaN</td>\n",
              "      <td>588174.235</td>\n",
              "      <td>39295.701214</td>\n",
              "      <td>83.0</td>\n",
              "      <td>NaN</td>\n",
              "      <td>NaN</td>\n",
              "      <td>NaN</td>\n",
              "      <td>354.729129</td>\n",
              "    </tr>\n",
              "    <tr>\n",
              "      <th>4005</th>\n",
              "      <td>NaN</td>\n",
              "      <td>NaN</td>\n",
              "      <td>NaN</td>\n",
              "      <td>NaN</td>\n",
              "      <td>588174.235</td>\n",
              "      <td>39295.701214</td>\n",
              "      <td>83.0</td>\n",
              "      <td>NaN</td>\n",
              "      <td>NaN</td>\n",
              "      <td>NaN</td>\n",
              "      <td>354.729129</td>\n",
              "    </tr>\n",
              "    <tr>\n",
              "      <th>4006</th>\n",
              "      <td>NaN</td>\n",
              "      <td>NaN</td>\n",
              "      <td>NaN</td>\n",
              "      <td>NaN</td>\n",
              "      <td>588174.235</td>\n",
              "      <td>39295.701214</td>\n",
              "      <td>83.0</td>\n",
              "      <td>NaN</td>\n",
              "      <td>NaN</td>\n",
              "      <td>NaN</td>\n",
              "      <td>354.729129</td>\n",
              "    </tr>\n",
              "    <tr>\n",
              "      <th>4007</th>\n",
              "      <td>NaN</td>\n",
              "      <td>NaN</td>\n",
              "      <td>NaN</td>\n",
              "      <td>NaN</td>\n",
              "      <td>588174.235</td>\n",
              "      <td>39295.701214</td>\n",
              "      <td>83.0</td>\n",
              "      <td>NaN</td>\n",
              "      <td>NaN</td>\n",
              "      <td>NaN</td>\n",
              "      <td>354.729129</td>\n",
              "    </tr>\n",
              "  </tbody>\n",
              "</table>\n",
              "<p>2937 rows × 11 columns</p>\n",
              "</div>"
            ],
            "text/plain": [
              "     customer   st gender education  customer_lifetime_value        income  \\\n",
              "1071      NaN  NaN    NaN       NaN               588174.235  39295.701214   \n",
              "1072      NaN  NaN    NaN       NaN               588174.235  39295.701214   \n",
              "1073      NaN  NaN    NaN       NaN               588174.235  39295.701214   \n",
              "1074      NaN  NaN    NaN       NaN               588174.235  39295.701214   \n",
              "1075      NaN  NaN    NaN       NaN               588174.235  39295.701214   \n",
              "...       ...  ...    ...       ...                      ...           ...   \n",
              "4003      NaN  NaN    NaN       NaN               588174.235  39295.701214   \n",
              "4004      NaN  NaN    NaN       NaN               588174.235  39295.701214   \n",
              "4005      NaN  NaN    NaN       NaN               588174.235  39295.701214   \n",
              "4006      NaN  NaN    NaN       NaN               588174.235  39295.701214   \n",
              "4007      NaN  NaN    NaN       NaN               588174.235  39295.701214   \n",
              "\n",
              "      monthly_premium_auto number_of_open_complaints policy_type  \\\n",
              "1071                  83.0                       NaN         NaN   \n",
              "1072                  83.0                       NaN         NaN   \n",
              "1073                  83.0                       NaN         NaN   \n",
              "1074                  83.0                       NaN         NaN   \n",
              "1075                  83.0                       NaN         NaN   \n",
              "...                    ...                       ...         ...   \n",
              "4003                  83.0                       NaN         NaN   \n",
              "4004                  83.0                       NaN         NaN   \n",
              "4005                  83.0                       NaN         NaN   \n",
              "4006                  83.0                       NaN         NaN   \n",
              "4007                  83.0                       NaN         NaN   \n",
              "\n",
              "     vehicle_class  total_claim_amount  \n",
              "1071           NaN          354.729129  \n",
              "1072           NaN          354.729129  \n",
              "1073           NaN          354.729129  \n",
              "1074           NaN          354.729129  \n",
              "1075           NaN          354.729129  \n",
              "...            ...                 ...  \n",
              "4003           NaN          354.729129  \n",
              "4004           NaN          354.729129  \n",
              "4005           NaN          354.729129  \n",
              "4006           NaN          354.729129  \n",
              "4007           NaN          354.729129  \n",
              "\n",
              "[2937 rows x 11 columns]"
            ]
          },
          "execution_count": 103,
          "metadata": {},
          "output_type": "execute_result"
        }
      ],
      "source": [
        "df[df.duplicated(keep=False)]\n"
      ]
    },
    {
      "cell_type": "code",
      "execution_count": 105,
      "id": "23811a1b",
      "metadata": {},
      "outputs": [
        {
          "data": {
            "text/html": [
              "<div>\n",
              "<style scoped>\n",
              "    .dataframe tbody tr th:only-of-type {\n",
              "        vertical-align: middle;\n",
              "    }\n",
              "\n",
              "    .dataframe tbody tr th {\n",
              "        vertical-align: top;\n",
              "    }\n",
              "\n",
              "    .dataframe thead th {\n",
              "        text-align: right;\n",
              "    }\n",
              "</style>\n",
              "<table border=\"1\" class=\"dataframe\">\n",
              "  <thead>\n",
              "    <tr style=\"text-align: right;\">\n",
              "      <th></th>\n",
              "      <th>customer</th>\n",
              "      <th>st</th>\n",
              "      <th>gender</th>\n",
              "      <th>education</th>\n",
              "      <th>customer_lifetime_value</th>\n",
              "      <th>income</th>\n",
              "      <th>monthly_premium_auto</th>\n",
              "      <th>number_of_open_complaints</th>\n",
              "      <th>policy_type</th>\n",
              "      <th>vehicle_class</th>\n",
              "      <th>total_claim_amount</th>\n",
              "    </tr>\n",
              "  </thead>\n",
              "  <tbody>\n",
              "    <tr>\n",
              "      <th>0</th>\n",
              "      <td>RB50392</td>\n",
              "      <td>Washington</td>\n",
              "      <td>NaN</td>\n",
              "      <td>Master</td>\n",
              "      <td>588174.235</td>\n",
              "      <td>0.000000</td>\n",
              "      <td>1000.0</td>\n",
              "      <td>1/0/00</td>\n",
              "      <td>Personal Auto</td>\n",
              "      <td>Four-Door Car</td>\n",
              "      <td>2.704934</td>\n",
              "    </tr>\n",
              "    <tr>\n",
              "      <th>1</th>\n",
              "      <td>QZ44356</td>\n",
              "      <td>Arizona</td>\n",
              "      <td>F</td>\n",
              "      <td>Bachelor</td>\n",
              "      <td>697953.590</td>\n",
              "      <td>0.000000</td>\n",
              "      <td>94.0</td>\n",
              "      <td>1/0/00</td>\n",
              "      <td>Personal Auto</td>\n",
              "      <td>Four-Door Car</td>\n",
              "      <td>1131.464935</td>\n",
              "    </tr>\n",
              "    <tr>\n",
              "      <th>2</th>\n",
              "      <td>AI49188</td>\n",
              "      <td>Nevada</td>\n",
              "      <td>F</td>\n",
              "      <td>Bachelor</td>\n",
              "      <td>1288743.170</td>\n",
              "      <td>48767.000000</td>\n",
              "      <td>108.0</td>\n",
              "      <td>1/0/00</td>\n",
              "      <td>Personal Auto</td>\n",
              "      <td>Two-Door Car</td>\n",
              "      <td>566.472247</td>\n",
              "    </tr>\n",
              "    <tr>\n",
              "      <th>3</th>\n",
              "      <td>WW63253</td>\n",
              "      <td>California</td>\n",
              "      <td>M</td>\n",
              "      <td>Bachelor</td>\n",
              "      <td>764586.180</td>\n",
              "      <td>0.000000</td>\n",
              "      <td>106.0</td>\n",
              "      <td>1/0/00</td>\n",
              "      <td>Corporate Auto</td>\n",
              "      <td>SUV</td>\n",
              "      <td>529.881344</td>\n",
              "    </tr>\n",
              "    <tr>\n",
              "      <th>4</th>\n",
              "      <td>GA49547</td>\n",
              "      <td>Washington</td>\n",
              "      <td>M</td>\n",
              "      <td>High School or Below</td>\n",
              "      <td>536307.650</td>\n",
              "      <td>36357.000000</td>\n",
              "      <td>68.0</td>\n",
              "      <td>1/0/00</td>\n",
              "      <td>Personal Auto</td>\n",
              "      <td>Four-Door Car</td>\n",
              "      <td>17.269323</td>\n",
              "    </tr>\n",
              "    <tr>\n",
              "      <th>...</th>\n",
              "      <td>...</td>\n",
              "      <td>...</td>\n",
              "      <td>...</td>\n",
              "      <td>...</td>\n",
              "      <td>...</td>\n",
              "      <td>...</td>\n",
              "      <td>...</td>\n",
              "      <td>...</td>\n",
              "      <td>...</td>\n",
              "      <td>...</td>\n",
              "      <td>...</td>\n",
              "    </tr>\n",
              "    <tr>\n",
              "      <th>1067</th>\n",
              "      <td>VJ51327</td>\n",
              "      <td>California</td>\n",
              "      <td>F</td>\n",
              "      <td>High School or Below</td>\n",
              "      <td>2031499.760</td>\n",
              "      <td>63209.000000</td>\n",
              "      <td>102.0</td>\n",
              "      <td>1/2/00</td>\n",
              "      <td>Personal Auto</td>\n",
              "      <td>SUV</td>\n",
              "      <td>207.320041</td>\n",
              "    </tr>\n",
              "    <tr>\n",
              "      <th>1068</th>\n",
              "      <td>GS98873</td>\n",
              "      <td>Arizona</td>\n",
              "      <td>F</td>\n",
              "      <td>Bachelor</td>\n",
              "      <td>323912.470</td>\n",
              "      <td>16061.000000</td>\n",
              "      <td>88.0</td>\n",
              "      <td>1/0/00</td>\n",
              "      <td>Personal Auto</td>\n",
              "      <td>Four-Door Car</td>\n",
              "      <td>633.600000</td>\n",
              "    </tr>\n",
              "    <tr>\n",
              "      <th>1069</th>\n",
              "      <td>CW49887</td>\n",
              "      <td>California</td>\n",
              "      <td>F</td>\n",
              "      <td>Master</td>\n",
              "      <td>462680.110</td>\n",
              "      <td>79487.000000</td>\n",
              "      <td>114.0</td>\n",
              "      <td>1/0/00</td>\n",
              "      <td>Special Auto</td>\n",
              "      <td>SUV</td>\n",
              "      <td>547.200000</td>\n",
              "    </tr>\n",
              "    <tr>\n",
              "      <th>1070</th>\n",
              "      <td>MY31220</td>\n",
              "      <td>California</td>\n",
              "      <td>F</td>\n",
              "      <td>College</td>\n",
              "      <td>899704.020</td>\n",
              "      <td>54230.000000</td>\n",
              "      <td>112.0</td>\n",
              "      <td>1/0/00</td>\n",
              "      <td>Personal Auto</td>\n",
              "      <td>Two-Door Car</td>\n",
              "      <td>537.600000</td>\n",
              "    </tr>\n",
              "    <tr>\n",
              "      <th>1071</th>\n",
              "      <td>NaN</td>\n",
              "      <td>NaN</td>\n",
              "      <td>NaN</td>\n",
              "      <td>NaN</td>\n",
              "      <td>588174.235</td>\n",
              "      <td>39295.701214</td>\n",
              "      <td>83.0</td>\n",
              "      <td>NaN</td>\n",
              "      <td>NaN</td>\n",
              "      <td>NaN</td>\n",
              "      <td>354.729129</td>\n",
              "    </tr>\n",
              "  </tbody>\n",
              "</table>\n",
              "<p>1072 rows × 11 columns</p>\n",
              "</div>"
            ],
            "text/plain": [
              "     customer          st gender             education  \\\n",
              "0     RB50392  Washington    NaN                Master   \n",
              "1     QZ44356     Arizona      F              Bachelor   \n",
              "2     AI49188      Nevada      F              Bachelor   \n",
              "3     WW63253  California      M              Bachelor   \n",
              "4     GA49547  Washington      M  High School or Below   \n",
              "...       ...         ...    ...                   ...   \n",
              "1067  VJ51327  California      F  High School or Below   \n",
              "1068  GS98873     Arizona      F              Bachelor   \n",
              "1069  CW49887  California      F                Master   \n",
              "1070  MY31220  California      F               College   \n",
              "1071      NaN         NaN    NaN                   NaN   \n",
              "\n",
              "      customer_lifetime_value        income  monthly_premium_auto  \\\n",
              "0                  588174.235      0.000000                1000.0   \n",
              "1                  697953.590      0.000000                  94.0   \n",
              "2                 1288743.170  48767.000000                 108.0   \n",
              "3                  764586.180      0.000000                 106.0   \n",
              "4                  536307.650  36357.000000                  68.0   \n",
              "...                       ...           ...                   ...   \n",
              "1067              2031499.760  63209.000000                 102.0   \n",
              "1068               323912.470  16061.000000                  88.0   \n",
              "1069               462680.110  79487.000000                 114.0   \n",
              "1070               899704.020  54230.000000                 112.0   \n",
              "1071               588174.235  39295.701214                  83.0   \n",
              "\n",
              "     number_of_open_complaints     policy_type  vehicle_class  \\\n",
              "0                       1/0/00   Personal Auto  Four-Door Car   \n",
              "1                       1/0/00   Personal Auto  Four-Door Car   \n",
              "2                       1/0/00   Personal Auto   Two-Door Car   \n",
              "3                       1/0/00  Corporate Auto            SUV   \n",
              "4                       1/0/00   Personal Auto  Four-Door Car   \n",
              "...                        ...             ...            ...   \n",
              "1067                    1/2/00   Personal Auto            SUV   \n",
              "1068                    1/0/00   Personal Auto  Four-Door Car   \n",
              "1069                    1/0/00    Special Auto            SUV   \n",
              "1070                    1/0/00   Personal Auto   Two-Door Car   \n",
              "1071                       NaN             NaN            NaN   \n",
              "\n",
              "      total_claim_amount  \n",
              "0               2.704934  \n",
              "1            1131.464935  \n",
              "2             566.472247  \n",
              "3             529.881344  \n",
              "4              17.269323  \n",
              "...                  ...  \n",
              "1067          207.320041  \n",
              "1068          633.600000  \n",
              "1069          547.200000  \n",
              "1070          537.600000  \n",
              "1071          354.729129  \n",
              "\n",
              "[1072 rows x 11 columns]"
            ]
          },
          "execution_count": 105,
          "metadata": {},
          "output_type": "execute_result"
        }
      ],
      "source": [
        "df.drop_duplicates(inplace=True)\n",
        "df"
      ]
    },
    {
      "cell_type": "markdown",
      "id": "60840701-4783-40e2-b4d8-55303f9100c9",
      "metadata": {
        "id": "60840701-4783-40e2-b4d8-55303f9100c9"
      },
      "source": [
        "# Bonus: Challenge 2: creating functions on a separate `py` file"
      ]
    },
    {
      "cell_type": "markdown",
      "id": "9d1adb3a-17cf-4899-8041-da21a4337fb4",
      "metadata": {
        "id": "9d1adb3a-17cf-4899-8041-da21a4337fb4"
      },
      "source": [
        "Put all the data cleaning and formatting steps into functions, and create a main function that performs all the cleaning and formatting.\n",
        "\n",
        "Write these functions in separate .py file(s). By putting these steps into functions, we can make the code more modular and easier to maintain."
      ]
    },
    {
      "cell_type": "markdown",
      "id": "0e170dc2-b62c-417a-8248-e63ed18a70c4",
      "metadata": {
        "id": "0e170dc2-b62c-417a-8248-e63ed18a70c4"
      },
      "source": [
        "*Hint: autoreload module is a utility module in Python that allows you to automatically reload modules in the current session when changes are made to the source code. This can be useful in situations where you are actively developing code and want to see the effects of changes you make without having to constantly restart the Python interpreter or Jupyter Notebook kernel.*"
      ]
    },
    {
      "cell_type": "code",
      "execution_count": null,
      "id": "a52c6dfc-cd11-4d01-bda4-f719fa33e9a4",
      "metadata": {
        "id": "a52c6dfc-cd11-4d01-bda4-f719fa33e9a4"
      },
      "outputs": [],
      "source": [
        "# Your code here"
      ]
    },
    {
      "cell_type": "markdown",
      "id": "80f846bb-3f5e-4ca2-96c0-900728daca5a",
      "metadata": {
        "id": "80f846bb-3f5e-4ca2-96c0-900728daca5a",
        "tags": []
      },
      "source": [
        "# Bonus: Challenge 3: Analyzing Clean and Formated Data"
      ]
    },
    {
      "cell_type": "markdown",
      "id": "9021630e-cc90-446c-b5bd-264d6c864207",
      "metadata": {
        "id": "9021630e-cc90-446c-b5bd-264d6c864207"
      },
      "source": [
        "You have been tasked with analyzing the data to identify potential areas for improving customer retention and profitability. Your goal is to identify customers with a high policy claim amount and a low customer lifetime value.\n",
        "\n",
        "In the Pandas Lab, we only looked at high policy claim amounts because we couldn't look into low customer lifetime values. If we had tried to work with that column, we wouldn't have been able to because customer lifetime value wasn't clean and in its proper format. So after cleaning and formatting the data, let's get some more interesting insights!\n",
        "\n",
        "Instructions:\n",
        "\n",
        "- Review the statistics again for total claim amount and customer lifetime value to gain an understanding of the data.\n",
        "- To identify potential areas for improving customer retention and profitability, we want to focus on customers with a high policy claim amount and a low customer lifetime value. Consider customers with a high policy claim amount to be those in the top 25% of the total claim amount, and clients with a low customer lifetime value to be those in the bottom 25% of the customer lifetime value. Create a pandas DataFrame object that contains information about customers with a policy claim amount greater than the 75th percentile and a customer lifetime value in the bottom 25th percentile.\n",
        "- Use DataFrame methods to calculate summary statistics about the high policy claim amount and low customer lifetime value data. To do so, select both columns of the dataframe simultaneously and pass it to the `.describe()` method. This will give you descriptive statistics, such as mean, median, standard deviation, minimum and maximum values for both columns at the same time, allowing you to compare and analyze their characteristics."
      ]
    },
    {
      "cell_type": "code",
      "execution_count": null,
      "id": "211e82b5-461a-4d6f-8a23-4deccb84173c",
      "metadata": {
        "id": "211e82b5-461a-4d6f-8a23-4deccb84173c"
      },
      "outputs": [],
      "source": [
        "# Your code here"
      ]
    }
  ],
  "metadata": {
    "colab": {
      "provenance": []
    },
    "kernelspec": {
      "display_name": "base",
      "language": "python",
      "name": "python3"
    },
    "language_info": {
      "codemirror_mode": {
        "name": "ipython",
        "version": 3
      },
      "file_extension": ".py",
      "mimetype": "text/x-python",
      "name": "python",
      "nbconvert_exporter": "python",
      "pygments_lexer": "ipython3",
      "version": "3.12.7"
    }
  },
  "nbformat": 4,
  "nbformat_minor": 5
}
